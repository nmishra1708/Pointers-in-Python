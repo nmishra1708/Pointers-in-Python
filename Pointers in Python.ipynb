{
 "cells": [
  {
   "cell_type": "code",
   "execution_count": 1,
   "metadata": {},
   "outputs": [],
   "source": [
    "# how to use *args and **kwargs in python\n",
    "# Instead of args and kwargs we can give any name but * ans ** is important role play in pointers.\n",
    "# by default *args -> type is tuple\n",
    "# by default **kwargs -> type is dict"
   ]
  },
  {
   "cell_type": "code",
   "execution_count": 2,
   "metadata": {},
   "outputs": [],
   "source": [
    "# passing Normal Parameter\n",
    "def student(name, age, rollno):\n",
    "    print(f\"name is {name}, age is {age} and roll no is {rollno}\")"
   ]
  },
  {
   "cell_type": "code",
   "execution_count": 3,
   "metadata": {},
   "outputs": [
    {
     "name": "stdout",
     "output_type": "stream",
     "text": [
      "name is john, age is 19 and roll no is 101\n"
     ]
    }
   ],
   "source": [
    "student('john',19,101)"
   ]
  },
  {
   "cell_type": "code",
   "execution_count": 4,
   "metadata": {},
   "outputs": [],
   "source": [
    "# student('john',19)\n",
    "# when we pass only two parameter then we found erroe as mentioned below"
   ]
  },
  {
   "cell_type": "code",
   "execution_count": 5,
   "metadata": {},
   "outputs": [],
   "source": [
    "# for solving above problem we can use the concept of *args Instead of normal values "
   ]
  },
  {
   "cell_type": "markdown",
   "metadata": {},
   "source": [
    "# Demostration-> How to use *args"
   ]
  },
  {
   "cell_type": "code",
   "execution_count": 6,
   "metadata": {},
   "outputs": [],
   "source": [
    "def student(*args):\n",
    "    print(f\"Name is {args[0]}, Age is {args[1]} and Roll_no is {args[2]}\")\n",
    "    print(type(args))"
   ]
  },
  {
   "cell_type": "code",
   "execution_count": 7,
   "metadata": {},
   "outputs": [
    {
     "name": "stdout",
     "output_type": "stream",
     "text": [
      "Name is John, Age is 19 and Roll_no is 101\n",
      "<class 'tuple'>\n"
     ]
    }
   ],
   "source": [
    "student(\"John\", 19, 101)\n",
    "# print the type of args"
   ]
  },
  {
   "cell_type": "code",
   "execution_count": 8,
   "metadata": {},
   "outputs": [],
   "source": [
    "# student(\"John\",19)\n",
    "# for solving above problem we can use if condition "
   ]
  },
  {
   "cell_type": "code",
   "execution_count": 9,
   "metadata": {},
   "outputs": [],
   "source": [
    "def student(*args):\n",
    "    if (len(args)==3):\n",
    "        print(f\"Name is {args[0]}, Age is {args[1]} and Roll_no is {args[2]}\")\n",
    "    else:\n",
    "        print(f\"Name is {args[0]}, and {args[1]}\")"
   ]
  },
  {
   "cell_type": "code",
   "execution_count": 10,
   "metadata": {},
   "outputs": [
    {
     "name": "stdout",
     "output_type": "stream",
     "text": [
      "Name is John, Age is 12 and Roll_no is 101\n"
     ]
    }
   ],
   "source": [
    "student('John', 12, 101) # for Three parameter"
   ]
  },
  {
   "cell_type": "code",
   "execution_count": 11,
   "metadata": {},
   "outputs": [
    {
     "name": "stdout",
     "output_type": "stream",
     "text": [
      "Name is John, and 12\n"
     ]
    }
   ],
   "source": [
    "student('John',12) # For two parameter"
   ]
  },
  {
   "cell_type": "code",
   "execution_count": 12,
   "metadata": {},
   "outputs": [
    {
     "name": "stdout",
     "output_type": "stream",
     "text": [
      "Name is john, Age is 19 and Roll_no is 101\n"
     ]
    }
   ],
   "source": [
    "# Demostrate when pass list as a parameter\n",
    "lis = ['john',19, 101]\n",
    "student(*lis)"
   ]
  },
  {
   "cell_type": "markdown",
   "metadata": {},
   "source": [
    "# Demostrate -> How to use **kwargs"
   ]
  },
  {
   "cell_type": "code",
   "execution_count": 13,
   "metadata": {},
   "outputs": [],
   "source": [
    "def students(**kwargs):\n",
    "    for keys, values in kwargs.items():\n",
    "        print(f\" {keys} marks is {values}\")"
   ]
  },
  {
   "cell_type": "code",
   "execution_count": 14,
   "metadata": {},
   "outputs": [],
   "source": [
    "marks = {'john':89,\n",
    "        'mohan':90,\n",
    "        'raj':87,\n",
    "        'ramesh':78,\n",
    "        'nimesh':67}"
   ]
  },
  {
   "cell_type": "code",
   "execution_count": 15,
   "metadata": {},
   "outputs": [
    {
     "name": "stdout",
     "output_type": "stream",
     "text": [
      " john marks is 89\n",
      " mohan marks is 90\n",
      " raj marks is 87\n",
      " ramesh marks is 78\n",
      " nimesh marks is 67\n"
     ]
    }
   ],
   "source": [
    "students(**marks)"
   ]
  },
  {
   "cell_type": "code",
   "execution_count": 16,
   "metadata": {},
   "outputs": [],
   "source": [
    "# Demostrate -> When pass (normal, *args, **kwargs) as arguments"
   ]
  },
  {
   "cell_type": "code",
   "execution_count": 17,
   "metadata": {},
   "outputs": [],
   "source": [
    "def master(normal, *args, **kwargs):\n",
    "    print(normal)\n",
    "    \n",
    "    for i in args:\n",
    "        print(i)\n",
    "        \n",
    "    for keys, values in kwargs.items():\n",
    "        print(keys, values)"
   ]
  },
  {
   "cell_type": "code",
   "execution_count": 18,
   "metadata": {},
   "outputs": [
    {
     "name": "stdout",
     "output_type": "stream",
     "text": [
      "Normal arguments\n",
      "john\n",
      "19\n",
      "101\n",
      "john 89\n",
      "mohan 90\n",
      "raj 87\n",
      "ramesh 78\n",
      "nimesh 67\n"
     ]
    }
   ],
   "source": [
    "master(\"Normal arguments\", *lis, **marks)"
   ]
  }
 ],
 "metadata": {
  "kernelspec": {
   "display_name": "Python 3",
   "language": "python",
   "name": "python3"
  },
  "language_info": {
   "codemirror_mode": {
    "name": "ipython",
    "version": 3
   },
   "file_extension": ".py",
   "mimetype": "text/x-python",
   "name": "python",
   "nbconvert_exporter": "python",
   "pygments_lexer": "ipython3",
   "version": "3.7.5"
  }
 },
 "nbformat": 4,
 "nbformat_minor": 2
}
